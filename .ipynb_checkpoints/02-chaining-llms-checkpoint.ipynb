{
 "cells": [
  {
   "cell_type": "markdown",
   "id": "330d26aa",
   "metadata": {},
   "source": [
    "**Tutorial 2:**\n",
    "\n",
    "We are going to use LangChain to chain LLMs together: make the output of a model become the input of another\n",
    "\n",
    "Disclaimer: We use the open-source HuggingFace model here to generate output. Better/premium models may produce better output"
   ]
  },
  {
   "cell_type": "markdown",
   "id": "581afb4e",
   "metadata": {},
   "source": [
    "Step 1: Setup (Refer to Tutorial 1)"
   ]
  },
  {
   "cell_type": "code",
   "execution_count": 1,
   "id": "6a211b6b",
   "metadata": {},
   "outputs": [],
   "source": [
    "# Keys here: https://huggingface.co/docs/hub/security-tokens"
   ]
  },
  {
   "cell_type": "code",
   "execution_count": 2,
   "id": "5e93318f",
   "metadata": {},
   "outputs": [],
   "source": [
    "f = open(\"./hfhub_key\")\n",
    "hfhub_key = f.read().strip()\n",
    "import os\n",
    "os.environ[\"HUGGINGFACEHUB_API_TOKEN\"] = hfhub_key\n",
    "from langchain import HuggingFaceHub\n",
    "from langchain import PromptTemplate, LLMChain"
   ]
  },
  {
   "cell_type": "code",
   "execution_count": 3,
   "id": "296205ac",
   "metadata": {},
   "outputs": [],
   "source": [
    "repo_id = \"google/flan-t5-xxl\"\n",
    "llm = HuggingFaceHub(\n",
    "   repo_id=repo_id, model_kwargs={\"temperature\": 0.5, \"max_length\": 500})"
   ]
  },
  {
   "cell_type": "markdown",
   "id": "590ca35b",
   "metadata": {},
   "source": [
    "Step 3: Let's define two LLMChains. One that generates an essay for a topic. Another that generates feedback for an essay."
   ]
  },
  {
   "cell_type": "code",
   "execution_count": 4,
   "id": "6c0ba046",
   "metadata": {},
   "outputs": [],
   "source": [
    "essay = \"\"\"You are a computer science student. Given the topic of the essay, it is your job to write a short essay.\n",
    "\n",
    "Topic: {topic}\n",
    "Essay: This is the text for the above essay:\"\"\"\n",
    "essay_prompt_template = PromptTemplate(input_variables=[\"topic\"], template=essay)"
   ]
  },
  {
   "cell_type": "code",
   "execution_count": 5,
   "id": "e402ca9e",
   "metadata": {
    "scrolled": true
   },
   "outputs": [],
   "source": [
    "essay_chain = LLMChain(llm=llm, prompt=essay_prompt_template)"
   ]
  },
  {
   "cell_type": "code",
   "execution_count": 13,
   "id": "7e123c87",
   "metadata": {},
   "outputs": [],
   "source": [
    "feedback = \"\"\"You are a course instructor from the University. Given the text of an essay, it is your job to say if the essay is correct.\n",
    "\n",
    "Essay Text:\n",
    "{essay_text}\n",
    "Feedback from a University course instructor of the above assignment:\"\"\"\n",
    "feedback_prompt_template = PromptTemplate(input_variables=[\"essay_text\"], template=feedback)"
   ]
  },
  {
   "cell_type": "code",
   "execution_count": 14,
   "id": "7dbddb39",
   "metadata": {},
   "outputs": [],
   "source": [
    "feedback_chain = LLMChain(llm=llm, prompt=feedback_prompt_template)"
   ]
  },
  {
   "cell_type": "markdown",
   "id": "b2e6321d",
   "metadata": {},
   "source": [
    "Step 4: Let's chain them together"
   ]
  },
  {
   "cell_type": "code",
   "execution_count": 15,
   "id": "c5b4a086",
   "metadata": {},
   "outputs": [],
   "source": [
    "from langchain.chains import SimpleSequentialChain"
   ]
  },
  {
   "cell_type": "code",
   "execution_count": 16,
   "id": "c3171dc0",
   "metadata": {},
   "outputs": [],
   "source": [
    "overall_chain = SimpleSequentialChain(chains=[essay_chain, feedback_chain], verbose=True)"
   ]
  },
  {
   "cell_type": "code",
   "execution_count": 17,
   "id": "9db6c320",
   "metadata": {},
   "outputs": [
    {
     "name": "stdout",
     "output_type": "stream",
     "text": [
      "\n",
      "\n",
      "\u001b[1m> Entering new SimpleSequentialChain chain...\u001b[0m\n",
      "\u001b[36;1m\u001b[1;3mLinked lists are collections of pointers to elements of a collection.\u001b[0m\n",
      "\u001b[33;1m\u001b[1;3mYes\u001b[0m\n",
      "\n",
      "\u001b[1m> Finished chain.\u001b[0m\n"
     ]
    }
   ],
   "source": [
    "feedback = overall_chain.run(\"linked lists\")"
   ]
  },
  {
   "cell_type": "code",
   "execution_count": 18,
   "id": "f86b51da",
   "metadata": {},
   "outputs": [
    {
     "data": {
      "text/plain": [
       "'Yes'"
      ]
     },
     "execution_count": 18,
     "metadata": {},
     "output_type": "execute_result"
    }
   ],
   "source": [
    "feedback"
   ]
  },
  {
   "cell_type": "markdown",
   "id": "f44fc810",
   "metadata": {},
   "source": [
    "Note:\n",
    "    - OpenAI API allows chain-of-thought to be elucidated explicitly in the prompt. The mechanism above can be useful when using (free) open-source models"
   ]
  }
 ],
 "metadata": {
  "kernelspec": {
   "display_name": "Python 3 (ipykernel)",
   "language": "python",
   "name": "python3"
  },
  "language_info": {
   "codemirror_mode": {
    "name": "ipython",
    "version": 3
   },
   "file_extension": ".py",
   "mimetype": "text/x-python",
   "name": "python",
   "nbconvert_exporter": "python",
   "pygments_lexer": "ipython3",
   "version": "3.10.9"
  }
 },
 "nbformat": 4,
 "nbformat_minor": 5
}
