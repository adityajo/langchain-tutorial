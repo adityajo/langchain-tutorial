{
 "cells": [
  {
   "cell_type": "markdown",
   "id": "330d26aa",
   "metadata": {},
   "source": [
    "**Tutorial 1:**\n",
    "\n",
    "We are going to use LangChain to answer a question using a HuggingFace model"
   ]
  },
  {
   "cell_type": "markdown",
   "id": "581afb4e",
   "metadata": {},
   "source": [
    "Step 1: Get your HuggingFace key"
   ]
  },
  {
   "cell_type": "code",
   "execution_count": 1,
   "id": "6a211b6b",
   "metadata": {},
   "outputs": [],
   "source": [
    "# Keys here: https://huggingface.co/docs/hub/security-tokens"
   ]
  },
  {
   "cell_type": "code",
   "execution_count": 2,
   "id": "5e93318f",
   "metadata": {},
   "outputs": [],
   "source": [
    "f = open(\"./hfhub_key\")\n",
    "hfhub_key = f.read().strip()"
   ]
  },
  {
   "cell_type": "code",
   "execution_count": 3,
   "id": "19218963",
   "metadata": {},
   "outputs": [],
   "source": [
    "import os\n",
    "os.environ[\"HUGGINGFACEHUB_API_TOKEN\"] = hfhub_key"
   ]
  },
  {
   "cell_type": "markdown",
   "id": "9f2759da",
   "metadata": {},
   "source": [
    "Step 2: Import your libraries"
   ]
  },
  {
   "cell_type": "code",
   "execution_count": 4,
   "id": "41aa14f0",
   "metadata": {},
   "outputs": [],
   "source": [
    "from langchain import HuggingFaceHub\n",
    "from langchain import PromptTemplate, LLMChain"
   ]
  },
  {
   "cell_type": "markdown",
   "id": "590ca35b",
   "metadata": {},
   "source": [
    "Step 3: Define the parameter, template and prompt.\n",
    "    \n",
    "    Parameter is the input variable. This comes from your data\n",
    "    Template is the text of the prompt with placeholders for parameters\n",
    "    Prompt fills parameters into the template."
   ]
  },
  {
   "cell_type": "code",
   "execution_count": 5,
   "id": "6c0ba046",
   "metadata": {},
   "outputs": [],
   "source": [
    "template = \"Question: {parameter} \""
   ]
  },
  {
   "cell_type": "code",
   "execution_count": 6,
   "id": "2540e36f",
   "metadata": {},
   "outputs": [],
   "source": [
    "prompt = PromptTemplate(template=template, input_variables=[\"parameter\"])"
   ]
  },
  {
   "cell_type": "code",
   "execution_count": 7,
   "id": "a02306ca",
   "metadata": {},
   "outputs": [
    {
     "data": {
      "text/plain": [
       "PromptTemplate(input_variables=['parameter'], output_parser=None, partial_variables={}, template='Question: {parameter} ', template_format='f-string', validate_template=True)"
      ]
     },
     "execution_count": 7,
     "metadata": {},
     "output_type": "execute_result"
    }
   ],
   "source": [
    "prompt"
   ]
  },
  {
   "cell_type": "markdown",
   "id": "b2e6321d",
   "metadata": {},
   "source": [
    "Step 4: Let's load a HuggingFace model now"
   ]
  },
  {
   "cell_type": "code",
   "execution_count": 8,
   "id": "509d268d",
   "metadata": {},
   "outputs": [],
   "source": [
    "repo_id = \"google/flan-t5-xxl\""
   ]
  },
  {
   "cell_type": "code",
   "execution_count": 9,
   "id": "a9ce0b7a",
   "metadata": {},
   "outputs": [],
   "source": [
    "llm = HuggingFaceHub(\n",
    "   repo_id=repo_id, model_kwargs={\"temperature\": 0.5, \"max_length\": 64})\n",
    "llm_chain = LLMChain(prompt=prompt, llm=llm)\n"
   ]
  },
  {
   "cell_type": "code",
   "execution_count": 10,
   "id": "c5b4a086",
   "metadata": {},
   "outputs": [
    {
     "data": {
      "text/plain": [
       "'toronto'"
      ]
     },
     "execution_count": 10,
     "metadata": {},
     "output_type": "execute_result"
    }
   ],
   "source": [
    "parameter = \"What is capital of Canada? \"\n",
    "llm_chain.run(parameter)"
   ]
  },
  {
   "cell_type": "markdown",
   "id": "79e0924c",
   "metadata": {},
   "source": [
    "End: You just chained prompt creation with a language model."
   ]
  },
  {
   "cell_type": "markdown",
   "id": "c08268d9",
   "metadata": {},
   "source": [
    "**Tutorial 2: \"Let's think step by step.\"**\n",
    "    \n",
    "    Adding a simple prefix instruction has shown to do better."
   ]
  },
  {
   "cell_type": "code",
   "execution_count": 11,
   "id": "69e89d48",
   "metadata": {},
   "outputs": [],
   "source": [
    "template = \"\"\"Question: {question}\n",
    "\n",
    "\n",
    "Answer: Let's think step by step.\"\"\"\n",
    "prompt = PromptTemplate(template=template, input_variables=[\"question\"])"
   ]
  },
  {
   "cell_type": "code",
   "execution_count": 12,
   "id": "7f9b5103",
   "metadata": {},
   "outputs": [],
   "source": [
    "llm_step_by_step = HuggingFaceHub(\n",
    "   repo_id=repo_id, model_kwargs={\"temperature\": 0.5, \"max_length\": 64})\n",
    "llm_chain_step_by_step = LLMChain(prompt=prompt, llm=llm_step_by_step)\n"
   ]
  },
  {
   "cell_type": "code",
   "execution_count": 13,
   "id": "34861aa2",
   "metadata": {},
   "outputs": [
    {
     "data": {
      "text/plain": [
       "'Ottawa is the capital of Canada. Ottawa is the capital of Canada. The answer: Ottawa.'"
      ]
     },
     "execution_count": 13,
     "metadata": {},
     "output_type": "execute_result"
    }
   ],
   "source": [
    "parameter = \"What is capital of Canada? \"\n",
    "llm_chain_step_by_step.run(parameter)"
   ]
  },
  {
   "cell_type": "markdown",
   "id": "839af32c",
   "metadata": {},
   "source": [
    "End: You just chained prompt creation with a language model, with basic zero-shot chain-of-thought prompting"
   ]
  }
 ],
 "metadata": {
  "kernelspec": {
   "display_name": "Python 3 (ipykernel)",
   "language": "python",
   "name": "python3"
  },
  "language_info": {
   "codemirror_mode": {
    "name": "ipython",
    "version": 3
   },
   "file_extension": ".py",
   "mimetype": "text/x-python",
   "name": "python",
   "nbconvert_exporter": "python",
   "pygments_lexer": "ipython3",
   "version": "3.10.9"
  }
 },
 "nbformat": 4,
 "nbformat_minor": 5
}
