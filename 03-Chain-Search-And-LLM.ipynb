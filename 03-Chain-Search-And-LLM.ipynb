{
 "cells": [
  {
   "cell_type": "code",
   "execution_count": 25,
   "id": "8d7896aa",
   "metadata": {},
   "outputs": [],
   "source": [
    "from langchain.agents import load_tools\n",
    "from langchain.agents import initialize_agent\n",
    "from langchain.agents import AgentType\n",
    "from langchain.llms import OpenAI\n",
    "from langchain.tools import DuckDuckGoSearchRun"
   ]
  },
  {
   "cell_type": "code",
   "execution_count": 9,
   "id": "59aa5dbc",
   "metadata": {},
   "outputs": [],
   "source": [
    "f = open(\"./openai_key\")\n",
    "openai_key = f.read().strip()\n",
    "\n",
    "import os\n",
    "\n",
    "os.environ[\"OPENAI_API_KEY\"] = openai_key"
   ]
  },
  {
   "cell_type": "code",
   "execution_count": 10,
   "id": "e4196548",
   "metadata": {},
   "outputs": [],
   "source": [
    "llm = OpenAI(temperature=0)"
   ]
  },
  {
   "cell_type": "code",
   "execution_count": 10,
   "id": "27fe94c8",
   "metadata": {},
   "outputs": [],
   "source": [
    "search = DuckDuckGoSearchRun()\n",
    "    \n",
    "tools = [\n",
    "    Tool(\n",
    "        name = \"Search\",\n",
    "        func=search.run,\n",
    "        description=\"useful for when you need to answer questions about current events\"\n",
    "    )\n",
    "]"
   ]
  },
  {
   "cell_type": "code",
   "execution_count": 12,
   "id": "2e4feda5",
   "metadata": {},
   "outputs": [],
   "source": [
    "agent = initialize_agent(\n",
    "    tools, llm, agent=AgentType.ZERO_SHOT_REACT_DESCRIPTION, verbose=True\n",
    ")"
   ]
  },
  {
   "cell_type": "code",
   "execution_count": 13,
   "id": "2b2847d9",
   "metadata": {
    "scrolled": true
   },
   "outputs": [
    {
     "name": "stdout",
     "output_type": "stream",
     "text": [
      "\n",
      "\n",
      "\u001b[1m> Entering new AgentExecutor chain...\u001b[0m\n",
      "\u001b[32;1m\u001b[1;3m I need to find out the distance and the average speed of the journey\n",
      "Action: Search\n",
      "Action Input: Distance and average speed from Wolli Creek to Randwick\u001b[0m\n",
      "Observation: \u001b[36;1m\u001b[1;3mWolli Creek to Randwick by train and tram. The journey time between Wolli Creek and Randwick is around 33 min and covers a distance of around 13 km. This includes an average layover time of around 2 min. Operated by Sydney Trains and Transport for NSW, the Wolli Creek to Randwick service departs from Wolli Creek Station and arrives in Randwick ... Average speed is measured in units of distance per time, and the average speed formula looks like this: average speed = total distance / total time. Typical units are kilometers per hour (kph), miles per hour (mph), meters per second (m/s) and feet per second (ft/s). In our mph calculator the default unit is mph (kph for metric-units countries ... Distance Randwick Gold Coast. 690 km. Distance Randwick Canberra. 247 km. Distance Randwick Logan City. 721 km. Distance Randwick Geelong. 778 km. Distance Randwick Hobart. 1,055 km. Distance Randwick Townsville. 1,689 km. ... Wolli Creek 2205 Sydney. Book a room from 143.1 AUD Novotel Brighton Beach. WOLLI CREEK WALK Distance 5.6km (10.6 km return) Steps 8500 (17000 return) Time 1 - 3 hours Level of Difficulty Easy. ... According to the Wolli Creek Preservation Society, bats of the Grey-headed flying fox variety, have been hanging out in the Causrina and Eucalypts here since 2007. You should expect to hit a 7-iron between 130 and 160 yards. Each iron should vary by about 8 to 10 yards (e.g., if your 7 goes 150, your 8 should go around 140). This will change depending on your swing speed, which is related to your technique, flexibility, fitness, and height.\u001b[0m\n",
      "Thought:\u001b[32;1m\u001b[1;3m I now know the average speed and distance of the journey\n",
      "Final Answer: The journey from Wolli Creek to Randwick will take around 33 minutes and cover a distance of 13 km, with an average speed of around 24 km/h.\u001b[0m\n",
      "\n",
      "\u001b[1m> Finished chain.\u001b[0m\n"
     ]
    },
    {
     "data": {
      "text/plain": [
       "'The journey from Wolli Creek to Randwick will take around 33 minutes and cover a distance of 13 km, with an average speed of around 24 km/h.'"
      ]
     },
     "execution_count": 13,
     "metadata": {},
     "output_type": "execute_result"
    }
   ],
   "source": [
    "agent.run(\"How much time will it take from Wolli creek to Randwick in Sydney? \")"
   ]
  },
  {
   "cell_type": "code",
   "execution_count": 15,
   "id": "adbc92f8",
   "metadata": {},
   "outputs": [
    {
     "name": "stdout",
     "output_type": "stream",
     "text": [
      "\n",
      "\n",
      "\u001b[1m> Entering new AgentExecutor chain...\u001b[0m\n",
      "\u001b[32;1m\u001b[1;3m I should look for information about the Sydney Opera House\n",
      "Action: Search\n",
      "Action Input: Sydney Opera House age\u001b[0m\n",
      "Observation: \u001b[36;1m\u001b[1;3mThe Sydney Opera House is a multi-venue performing arts centre in Sydney.Located on the foreshore of Sydney Harbour, it is widely regarded as one of the world's most famous and distinctive buildings and a masterpiece of 20th-century architecture.. Designed by Danish architect Jørn Utzon, but completed by an Australian architectural team headed by Peter Hall, the building was formally opened ... The Sydney Opera House is a multipurpose performing arts facility located on Port Jackson in Sydney, New South Wales, Australia. It was designed by Danish architect Jørn Utzon, the winner of an international competition sponsored by the New South Wales government for the complex's design. The Opera House, which was designated a UNESCO World Heritage site in 2007, is Sydney's most prominent ... Sydney Opera House under construction, 1966. The Sydney Opera House is one of the 20th century's most iconic buildings. It broke new ground for design and engineering around the world. Since its opening in 1973 it has become a symbol the world immediately associates with Sydney and Australia. The story of the Opera House is a drama that for ... Complete, the Opera House measures 600 feet long and 394 feet wide at its widest point. The structure's large precast concrete \"shells\" are each composed of sections of a sphere with a 246 ... Published: January 12, 2023 at 12:00 pm When was the Sydney Opera House officially opened October is springtime in Sydney, Australia, and the weather can be unreliable. But by mid-afternoon on 20 October 1973, a bank of ominous grey clouds had given way to bright blue skies and wafts of cotton-ball cumulus.\u001b[0m\n",
      "Thought:\u001b[32;1m\u001b[1;3m I now know the final answer\n",
      "Final Answer: The Sydney Opera House was officially opened on October 20, 1973.\u001b[0m\n",
      "\n",
      "\u001b[1m> Finished chain.\u001b[0m\n"
     ]
    },
    {
     "data": {
      "text/plain": [
       "'The Sydney Opera House was officially opened on October 20, 1973.'"
      ]
     },
     "execution_count": 15,
     "metadata": {},
     "output_type": "execute_result"
    }
   ],
   "source": [
    "agent.run(\"What is the age of the Sydney Opera House? \")"
   ]
  },
  {
   "cell_type": "code",
   "execution_count": 11,
   "id": "81990610",
   "metadata": {},
   "outputs": [],
   "source": [
    "from langchain import LLMMathChain\n",
    "llm_math_chain = LLMMathChain.from_llm(llm, verbose=True)\n"
   ]
  },
  {
   "cell_type": "code",
   "execution_count": 19,
   "id": "af3e1562",
   "metadata": {},
   "outputs": [],
   "source": [
    " tools = [\n",
    "      Tool(\n",
    "        name=\"Calculator\",\n",
    "        func=llm_math_chain.run,\n",
    "        description=\"useful for when you need to answer questions about math\"\n",
    "    ),\n",
    "     \n",
    "    Tool(\n",
    "        name = \"Search\",\n",
    "        func=search.run,\n",
    "        description=\"useful for when you need to answer questions about current events\"\n",
    "    )\n",
    "]\n",
    "    \n",
    "   "
   ]
  },
  {
   "cell_type": "code",
   "execution_count": 20,
   "id": "abed5d4d",
   "metadata": {},
   "outputs": [
    {
     "name": "stdout",
     "output_type": "stream",
     "text": [
      "\n",
      "\n",
      "\u001b[1m> Entering new AgentExecutor chain...\u001b[0m\n",
      "\u001b[32;1m\u001b[1;3m I need to find out the age of the Sydney Opera House\n",
      "Action: Search\n",
      "Action Input: \"age of Sydney Opera House\"\u001b[0m\n",
      "Observation: \u001b[33;1m\u001b[1;3mThe Sydney Opera House is a multi-venue performing arts centre in Sydney.Located on the foreshore of Sydney Harbour, it is widely regarded as one of the world's most famous and distinctive buildings and a masterpiece of 20th-century architecture.. Designed by Danish architect Jørn Utzon, but completed by an Australian architectural team headed by Peter Hall, the building was formally opened ... The Sydney Opera House is one of the 20th century's most iconic buildings. It broke new ground for design and engineering around the world. Since its opening in 1973 it has become a symbol the world immediately associates with Sydney and Australia. The story of the Opera House is a drama that for more than 15 years grabbed national headlines ... January 31, 2023 Photo: Getty Images Sydney Opera House, originally designed by Danish architect Jørn Utzon, marks its 50th anniversary in 2023, hot on the heels of unveiling its renovated... The 70-year-old Peter Tucker recalls the time vividly. He started working at the Sydney Opera House in 1971, two years before the official opening. On his first day of work, Tucker was 19,... When the Sydney Opera House was declared a UNESCO World Heritage Site in 2007, Utzon became only the second person to have received such recognition for one of his works during his lifetime ...\u001b[0m\n",
      "Thought:\u001b[32;1m\u001b[1;3m I now know the final answer\n",
      "Final Answer: The Sydney Opera House is 50 years old, having been opened in 1973.\u001b[0m\n",
      "\n",
      "\u001b[1m> Finished chain.\u001b[0m\n"
     ]
    },
    {
     "data": {
      "text/plain": [
       "'The Sydney Opera House is 50 years old, having been opened in 1973.'"
      ]
     },
     "execution_count": 20,
     "metadata": {},
     "output_type": "execute_result"
    }
   ],
   "source": [
    "agent = initialize_agent(\n",
    "    tools, llm, agent=AgentType.ZERO_SHOT_REACT_DESCRIPTION, verbose=True\n",
    ")\n",
    "\n",
    "agent.run(\"What is the age of the Sydney Opera House? \")"
   ]
  },
  {
   "cell_type": "markdown",
   "id": "194e5cfa",
   "metadata": {},
   "source": [
    "Notes:\n",
    "    \n",
    "    - This does not work very well in the HuggingFace Hub models. The LLM is not able to parse the search result and include it in its output.\n",
    "    - But... can be done! :) "
   ]
  },
  {
   "cell_type": "code",
   "execution_count": 19,
   "id": "7f843980",
   "metadata": {},
   "outputs": [],
   "source": [
    "from langchain import PromptTemplate, LLMChain, HuggingFaceHub\n",
    "\n",
    "f = open(\"./hfhub_key\")\n",
    "hfhub_key = f.read().strip()\n",
    "\n",
    "import os\n",
    "os.environ[\"HUGGINGFACEHUB_API_TOKEN\"] = hfhub_key\n",
    "repo_id = \"google/flan-t5-xxl\""
   ]
  },
  {
   "cell_type": "code",
   "execution_count": 20,
   "id": "04eefc37",
   "metadata": {},
   "outputs": [
    {
     "data": {
      "text/plain": [
       "'Australia has a leader called the Prime Minister. The current Prime Minister of Australia is Malcolm Turnbull'"
      ]
     },
     "execution_count": 20,
     "metadata": {},
     "output_type": "execute_result"
    }
   ],
   "source": [
    "template = \"\"\"Question: {question}\n",
    "\n",
    "\n",
    "Answer: Let's think step by step.\"\"\"\n",
    "prompt = PromptTemplate(template=template, input_variables=[\"question\"])\n",
    "\n",
    "llm_step_by_step = HuggingFaceHub(\n",
    "   repo_id=repo_id, model_kwargs={\"temperature\": 0.5, \"max_length\": 128})\n",
    "llm_chain_step_by_step = LLMChain(prompt=prompt, llm=llm_step_by_step)\n",
    "\n",
    "parameter = \"Who is the Prime Minister of Australia? \"\n",
    "llm_chain_step_by_step.run(parameter)"
   ]
  },
  {
   "cell_type": "code",
   "execution_count": 26,
   "id": "f00d7a72",
   "metadata": {},
   "outputs": [],
   "source": [
    "search = DuckDuckGoSearchRun()\n",
    "    \n",
    "def get_search_snippet(question):\n",
    "    return search.run(question)"
   ]
  },
  {
   "cell_type": "code",
   "execution_count": 27,
   "id": "2c2ec261",
   "metadata": {},
   "outputs": [],
   "source": [
    "prompt = PromptTemplate(\n",
    "    template=\"\"\"\"Answer the question by extracting information from the document.\n",
    "    \n",
    "    Document: {document}\n",
    "    Question: {question}\n",
    "    \n",
    "    Answer: Let's think step by step. \"\"\", \n",
    "    input_variables=[\"document\", \"question\"]\n",
    ");\n",
    "\n"
   ]
  },
  {
   "cell_type": "code",
   "execution_count": 28,
   "id": "0ad817ac",
   "metadata": {},
   "outputs": [],
   "source": [
    "llm_chain_with_search_hfhub = LLMChain(prompt=prompt, llm=llm_step_by_step)"
   ]
  },
  {
   "cell_type": "code",
   "execution_count": 29,
   "id": "c80f83fb",
   "metadata": {},
   "outputs": [
    {
     "data": {
      "text/plain": [
       "'The relevant information is: The current prime minister is Anthony ... Anthony Albanese, in full'"
      ]
     },
     "execution_count": 29,
     "metadata": {},
     "output_type": "execute_result"
    }
   ],
   "source": [
    "question = \"Who is the Prime Minister of Australia? \"\n",
    "llm_chain_with_search_hfhub.run({\"document\": get_search_snippet(question), \"question\": question})\n"
   ]
  },
  {
   "cell_type": "code",
   "execution_count": null,
   "id": "a81dff8c",
   "metadata": {},
   "outputs": [],
   "source": []
  }
 ],
 "metadata": {
  "kernelspec": {
   "display_name": "Python 3 (ipykernel)",
   "language": "python",
   "name": "python3"
  },
  "language_info": {
   "codemirror_mode": {
    "name": "ipython",
    "version": 3
   },
   "file_extension": ".py",
   "mimetype": "text/x-python",
   "name": "python",
   "nbconvert_exporter": "python",
   "pygments_lexer": "ipython3",
   "version": "3.10.9"
  }
 },
 "nbformat": 4,
 "nbformat_minor": 5
}
