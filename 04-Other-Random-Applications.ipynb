{
 "cells": [
  {
   "cell_type": "markdown",
   "id": "972437f7",
   "metadata": {},
   "source": [
    "Install chromadb and tiktoken packages using pip"
   ]
  },
  {
   "cell_type": "markdown",
   "id": "1d7156ff",
   "metadata": {},
   "source": [
    "PART 1: Web Question-Answering"
   ]
  },
  {
   "cell_type": "code",
   "execution_count": 3,
   "id": "254d546f",
   "metadata": {},
   "outputs": [],
   "source": [
    "f = open(\"./openai_key\")\n",
    "openai_key = f.read().strip()\n",
    "\n",
    "import os\n",
    "\n",
    "os.environ[\"OPENAI_API_KEY\"] = openai_key"
   ]
  },
  {
   "cell_type": "code",
   "execution_count": 4,
   "id": "a2cf3ede",
   "metadata": {},
   "outputs": [
    {
     "data": {
      "text/plain": [
       "' UbiComp 2020'"
      ]
     },
     "execution_count": 4,
     "metadata": {},
     "output_type": "execute_result"
    }
   ],
   "source": [
    "from langchain.document_loaders import WebBaseLoader\n",
    "from langchain.indexes import VectorstoreIndexCreator\n",
    "# Document loader\n",
    "loader = WebBaseLoader(\"https://fsalim.github.io\")\n",
    "# Index that wraps above steps\n",
    "index = VectorstoreIndexCreator().from_loaders([loader])\n",
    "# Question-answering\n",
    "question = \"At which conference was Flora the PC Co-chair? \"\n",
    "index.query(question)"
   ]
  },
  {
   "cell_type": "code",
   "execution_count": 5,
   "id": "b4967a55",
   "metadata": {},
   "outputs": [
    {
     "data": {
      "text/plain": [
       "' Flora has received 11 awards.'"
      ]
     },
     "execution_count": 5,
     "metadata": {},
     "output_type": "execute_result"
    }
   ],
   "source": [
    "question = \"How many awards has Flora received, as per her homepage? \"\n",
    "index.query(question)"
   ]
  },
  {
   "cell_type": "code",
   "execution_count": null,
   "id": "a3efb883",
   "metadata": {},
   "outputs": [],
   "source": []
  }
 ],
 "metadata": {
  "kernelspec": {
   "display_name": "Python 3 (ipykernel)",
   "language": "python",
   "name": "python3"
  },
  "language_info": {
   "codemirror_mode": {
    "name": "ipython",
    "version": 3
   },
   "file_extension": ".py",
   "mimetype": "text/x-python",
   "name": "python",
   "nbconvert_exporter": "python",
   "pygments_lexer": "ipython3",
   "version": "3.10.9"
  }
 },
 "nbformat": 4,
 "nbformat_minor": 5
}
